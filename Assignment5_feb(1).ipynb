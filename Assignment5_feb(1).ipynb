{
 "cells": [
  {
   "cell_type": "markdown",
   "id": "16bd16ca-e675-4799-9d31-2cb6f5bc8ceb",
   "metadata": {},
   "source": [
    "# Question 1:\n"
   ]
  },
  {
   "cell_type": "markdown",
   "id": "7d8ca963-1a3e-484f-92a3-b8c75ca21ccc",
   "metadata": {
    "tags": []
   },
   "source": [
    "# Python Classes/Objects\n",
    "\n",
    "Python is an object oriented programming language.\n",
    "\n",
    "objects-Almost everything in Python is an object, with its properties and methods.\n",
    "\n",
    "class-A Class is like an object constructor, or a \"blueprint\" for creating objects.\n",
    "\n",
    "\n"
   ]
  },
  {
   "cell_type": "code",
   "execution_count": 1,
   "id": "2f106b9b-0fc5-411c-8299-6fb5964c146d",
   "metadata": {},
   "outputs": [],
   "source": [
    "# Create a class named MyClass, with a property named x:\n",
    "\n",
    "class MyClass:\n",
    "    x = 5"
   ]
  },
  {
   "cell_type": "code",
   "execution_count": 2,
   "id": "3e28a6e5-f131-42a2-a45b-18231b2cc010",
   "metadata": {},
   "outputs": [
    {
     "name": "stdout",
     "output_type": "stream",
     "text": [
      "5\n"
     ]
    }
   ],
   "source": [
    "#Create an object named p1, and print the value of x:\n",
    "\n",
    "p1 = MyClass()\n",
    "print(p1.x)"
   ]
  },
  {
   "cell_type": "markdown",
   "id": "350f8763-bb48-4499-8ec9-28debf469d85",
   "metadata": {
    "tags": []
   },
   "source": [
    "# Question2:"
   ]
  },
  {
   "cell_type": "markdown",
   "id": "075a4386-c66d-413c-8dfb-fb3ead367701",
   "metadata": {},
   "source": [
    "# Four pillars are Inheritance, Polymorphism, Encapsulation and Abstraction. \n",
    "\n",
    "Inheritance:\n",
    "      In Python it is possible to create an object that inherits the methods and properties of another object. This is called inheritance.\n",
    "      In inheritance, there is a parent class and a child class. A child class inherits the properties and methods of the parent class.\n",
    "\n",
    "Polymorphism:\n",
    "      Polymorphism means 'many forms'. In Python this means that you can have one function or object that can be used in different ways. \n",
    "\n",
    "Encapsulation:\n",
    "      Encapsulation is the process of making data private by wrapping data and its methods in a 'capsule' or unit, so that it \n",
    "      can not be accessed or modified outside of that unit. This is achieved by making variables inside a class private. In Python we can \n",
    "      make variables private by prefixing the variable name with a double underscore '__'.\n",
    "\n",
    "Abstraction:\n",
    "     Abstraction is about keeping the process simple by hiding unnecessary details from the user."
   ]
  },
  {
   "cell_type": "markdown",
   "id": "9fd83504-9b66-4afe-92b7-6113168f6c73",
   "metadata": {},
   "source": [
    "# Question3:"
   ]
  },
  {
   "cell_type": "markdown",
   "id": "18d9e2dd-0c5c-4416-bf8f-7ab66fcc83e0",
   "metadata": {},
   "source": [
    "# The __init__() Function:\n",
    "  Use the __init__() function to assign values to object properties, or other operations that are necessary to do when the object is being created."
   ]
  },
  {
   "cell_type": "code",
   "execution_count": 3,
   "id": "48265a3e-4ec6-4ac1-aec2-2e0cb551fb90",
   "metadata": {},
   "outputs": [
    {
     "data": {
      "text/plain": [
       "(123, 9876543220)"
      ]
     },
     "execution_count": 3,
     "metadata": {},
     "output_type": "execute_result"
    }
   ],
   "source": [
    "class students:\n",
    "        def __init__(self,name_id,phone):\n",
    "            self.name_id=name_id\n",
    "            self.phone= phone\n",
    "        def return_student_data(self):\n",
    "            return self.name_id,self.phone\n",
    "# create a object\n",
    "rohit=students(123,9876543220)\n",
    "\n",
    "rohit. return_student_data()\n"
   ]
  },
  {
   "cell_type": "markdown",
   "id": "291e318a-698f-4999-a51d-3bd7700852ff",
   "metadata": {},
   "source": [
    "# question4:"
   ]
  },
  {
   "cell_type": "markdown",
   "id": "01ac5980-325d-4b2d-99f9-7cb86a6ce4ee",
   "metadata": {},
   "source": [
    "# The self Parameter:\n",
    "The self parameter is a reference to the current instance of the class, and is used to access variables that belongs to the class.\n",
    "\n",
    "It does not have to be named self , you can call it whatever you like, but it has to be the first parameter of any function in the class."
   ]
  },
  {
   "cell_type": "code",
   "execution_count": 4,
   "id": "73020a9c-a9dd-4b6a-9efa-c568e1688d69",
   "metadata": {},
   "outputs": [
    {
     "name": "stdout",
     "output_type": "stream",
     "text": [
      "Hello my name is Rohan\n"
     ]
    }
   ],
   "source": [
    "# use self:\n",
    "class Person:\n",
    "    def __init__(self, name, age):\n",
    "        self.name = name\n",
    "        self.age = age\n",
    "\n",
    "    def myfunc(self):\n",
    "        print(\"Hello my name is \" + self.name)\n",
    "\n",
    "p1 = Person(\"Rohan\", 36)\n",
    "p1.myfunc()"
   ]
  },
  {
   "cell_type": "code",
   "execution_count": 5,
   "id": "331e813e-353b-4622-9cb6-3f57d1050e33",
   "metadata": {},
   "outputs": [
    {
     "name": "stdout",
     "output_type": "stream",
     "text": [
      "Hello my name is Rohan\n"
     ]
    }
   ],
   "source": [
    "# without self\n",
    "\n",
    "class Person:\n",
    "    def __init__(myobject, name, age):\n",
    "        myobject.name = name\n",
    "        myobject.age = age\n",
    "\n",
    "    def myfunc(abc):\n",
    "        print(\"Hello my name is \" + abc.name)\n",
    "\n",
    "p1 = Person(\"Rohan\", 36)\n",
    "p1.myfunc()"
   ]
  },
  {
   "cell_type": "markdown",
   "id": "947bf994-cc19-4155-b1a4-3e65a71e1126",
   "metadata": {},
   "source": [
    "# Question 5:\n"
   ]
  },
  {
   "cell_type": "markdown",
   "id": "da8f1cbc-8a60-474d-bb0f-2389bdb0c9a0",
   "metadata": {},
   "source": [
    "\n",
    "# Python Inheritance:\n",
    "Inheritance allows us to define a class that inherits all the methods and properties from another class.\n",
    "\n",
    "Parent class is the class being inherited from, also called base class.\n",
    "\n",
    "Child class is the class that inherits from another class, also called derived class."
   ]
  },
  {
   "cell_type": "code",
   "execution_count": 6,
   "id": "3659c90a-4519-4c0f-9530-d8c98f3aae0f",
   "metadata": {},
   "outputs": [
    {
     "name": "stdout",
     "output_type": "stream",
     "text": [
      "Ajit Sharma\n"
     ]
    }
   ],
   "source": [
    "# Create a Parent Class\n",
    "# Any class can be a parent class, so the syntax is the same as creating any other class.\n",
    "\n",
    "class Person:\n",
    "    def __init__(self, fname, lname):\n",
    "        self.firstname = fname\n",
    "        self.lastname = lname\n",
    "\n",
    "    def printname(self):\n",
    "        print(self.firstname, self.lastname)\n",
    "\n",
    "#Use the Person class to create an object\n",
    "\n",
    "x = Person(\"Ajit\", \"Sharma\")\n",
    "x.printname()"
   ]
  },
  {
   "cell_type": "code",
   "execution_count": 7,
   "id": "2265dc50-82ba-4dcb-ae61-dbcbd2531a59",
   "metadata": {},
   "outputs": [],
   "source": [
    "# Create a Child Class\n",
    "# Create a class named Student, which will inherit the properties and methods from the Person class:\n",
    "\n",
    "class Student(Person):\n",
    "      pass"
   ]
  },
  {
   "cell_type": "code",
   "execution_count": 8,
   "id": "260e5a80-8564-4551-845a-233d855ba11c",
   "metadata": {},
   "outputs": [
    {
     "name": "stdout",
     "output_type": "stream",
     "text": [
      "Mohit Jamdagni\n"
     ]
    }
   ],
   "source": [
    "# Use the Student class to create an object, and then execute the printname method:\n",
    "\n",
    "x = Student(\"Mohit\", \"Jamdagni\")\n",
    "x.printname()"
   ]
  },
  {
   "cell_type": "code",
   "execution_count": null,
   "id": "b664a54d-ad2c-44e0-8c05-e8289f7ae7af",
   "metadata": {},
   "outputs": [],
   "source": []
  }
 ],
 "metadata": {
  "kernelspec": {
   "display_name": "Python 3 (ipykernel)",
   "language": "python",
   "name": "python3"
  },
  "language_info": {
   "codemirror_mode": {
    "name": "ipython",
    "version": 3
   },
   "file_extension": ".py",
   "mimetype": "text/x-python",
   "name": "python",
   "nbconvert_exporter": "python",
   "pygments_lexer": "ipython3",
   "version": "3.10.8"
  }
 },
 "nbformat": 4,
 "nbformat_minor": 5
}
